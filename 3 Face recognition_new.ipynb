{
 "cells": [
  {
   "cell_type": "code",
   "execution_count": 1,
   "id": "09636755",
   "metadata": {},
   "outputs": [
    {
     "data": {
      "text/plain": [
       "'\\nPIL (Python Imaging Library): Used for opening, manipulating, and saving various image file formats.\\nOpenCV (cv2): Provides tools for advanced computer vision tasks like image processing, object detection, and face recognition.\\nKeras: A high-level neural networks API for building and training deep learning models.\\n'"
      ]
     },
     "execution_count": 1,
     "metadata": {},
     "output_type": "execute_result"
    }
   ],
   "source": [
    "# Importing the libraries\n",
    "from PIL import Image\n",
    "import cv2\n",
    "from keras.models import load_model\n",
    "import numpy as np\n",
    "'''\n",
    "PIL (Python Imaging Library): Used for opening, manipulating, and saving various image file formats.\n",
    "OpenCV (cv2): Provides tools for advanced computer vision tasks like image processing, object detection, and face recognition.\n",
    "Keras: A high-level neural networks API for building and training deep learning models.\n",
    "'''"
   ]
  },
  {
   "cell_type": "code",
   "execution_count": 2,
   "id": "101f0bdc",
   "metadata": {},
   "outputs": [
    {
     "name": "stderr",
     "output_type": "stream",
     "text": [
      "WARNING:absl:Compiled the loaded model, but the compiled metrics have yet to be built. `model.compile_metrics` will be empty until you train or evaluate the model.\n"
     ]
    }
   ],
   "source": [
    "from keras.preprocessing import image\n",
    "# load the saved model\n",
    "model = load_model('vgg16_fr.h5')\n",
    "\n",
    "# Loading the cascades\n",
    "face_detector = cv2.CascadeClassifier('haarcascade_frontalface_default.xml')\n"
   ]
  },
  {
   "cell_type": "code",
   "execution_count": 14,
   "id": "1ac0a854",
   "metadata": {},
   "outputs": [
    {
     "name": "stderr",
     "output_type": "stream",
     "text": [
      "<>:8: SyntaxWarning: \"is\" with a literal. Did you mean \"==\"?\n",
      "<>:8: SyntaxWarning: \"is\" with a literal. Did you mean \"==\"?\n",
      "/var/folders/ws/7rbs8rkn2_q616f0drl37fqr0000gn/T/ipykernel_92660/1151807784.py:8: SyntaxWarning: \"is\" with a literal. Did you mean \"==\"?\n",
      "  if face_portion is ():\n"
     ]
    },
    {
     "name": "stdout",
     "output_type": "stream",
     "text": [
      "\u001b[1m1/1\u001b[0m \u001b[32m━━━━━━━━━━━━━━━━━━━━\u001b[0m\u001b[37m\u001b[0m \u001b[1m0s\u001b[0m 275ms/step\n",
      "[[0.0000000e+00 7.7603764e-29 1.0000000e+00]]\n"
     ]
    }
   ],
   "source": [
    "# test\n",
    "\n",
    "#loading the image from the datasets folder to predict the person name \n",
    "#through trained model\n",
    "test_image = cv2.imread(r'./Datasets/Test/wilfy/wilfy-36.jpg')\n",
    "face_portion=face_detector.detectMultiScale(test_image)\n",
    "    \n",
    "if face_portion is ():\n",
    "    print(\"Face is not found\") #will give this msg if there is no face in the image\n",
    "    \n",
    "        \n",
    "else:\n",
    "    for (x,y,w,h) in face_portion:\n",
    "        x=x-30 \n",
    "        y=y-30\n",
    "        cropped_image=test_image[y:y+h+30,x:x+w+30]\n",
    "        #cropping the face portion\n",
    "    if type(cropped_image) is np.ndarray:\n",
    "        cropped_image = cv2.resize(cropped_image, (224, 224))\n",
    "        im = Image.fromarray(cropped_image, 'RGB')\n",
    "        #Resizing into 224x224 because we trained the model with this image size.\n",
    "        img_array = np.array(im)\n",
    "        #Our keras model used a 4D tensor, (images x height x width x channel)\n",
    "        #So changing dimension 224x224x3 into 1x224x224x3 \n",
    "        img_array = np.expand_dims(img_array, axis=0)\n",
    "        pred = model.predict(img_array)\n",
    "        print(pred)\n",
    "\n",
    "            \n",
    "            \n",
    "        if(pred[0][1]>0.7):\n",
    "            name='debbie the beautiful princess'\n",
    "        elif(pred[0][2]>0.7):\n",
    "            name='wilfy the fine MAN'\n",
    "       # elif(pred[0][2]>0.7): \n",
    "           # name = 'Richa'\n",
    "        #elif(pred[0][3]>0.7): \n",
    "            #name = 'Trevor'\n",
    "        else:\n",
    "            name=\"None matching\"\n",
    "    "
   ]
  },
  {
   "cell_type": "code",
   "execution_count": 15,
   "id": "c8405e3f",
   "metadata": {},
   "outputs": [
    {
     "name": "stdout",
     "output_type": "stream",
     "text": [
      "wilfy the fine MAN\n"
     ]
    }
   ],
   "source": [
    "print(name)"
   ]
  },
  {
   "cell_type": "code",
   "execution_count": 123,
   "id": "67c85bb1",
   "metadata": {},
   "outputs": [
    {
     "name": "stdout",
     "output_type": "stream",
     "text": [
      "['wilfy', 'debbie', '.ipynb_checkpoints']\n"
     ]
    }
   ],
   "source": [
    "import os\n",
    "\n",
    "# Directory containing the subfolders, each representing a class\n",
    "directory = 'Datasets/Train'\n",
    "\n",
    "# Get a list of all subfolders (class names) in the directory\n",
    "class_names = [f.name for f in os.scandir(directory) if f.is_dir()]\n",
    "\n",
    "# Print the class names\n",
    "print(class_names)"
   ]
  },
  {
   "cell_type": "code",
   "execution_count": 125,
   "id": "a3dd5fee-246a-496c-9759-e4f42f0b9825",
   "metadata": {},
   "outputs": [
    {
     "name": "stdout",
     "output_type": "stream",
     "text": [
      "Loading image from: ./Datasets/Test/wilfy/wilfy-33.jpg\n",
      "Image loaded successfully.\n"
     ]
    }
   ],
   "source": [
    "import cv2\n",
    "import os\n",
    "\n",
    "# Check if the file exists\n",
    "image_path = r'./Datasets/Test/wilfy/wilfy-33.jpg'\n",
    "if not os.path.exists(image_path):\n",
    "    print(f\"File does not exist: {image_path}\")\n",
    "else:\n",
    "    print(f\"Loading image from: {image_path}\")\n",
    "    image = cv2.imread(image_path)\n",
    "    if image is None:\n",
    "        print(\"Failed to load image. Check the file path and integrity.\")\n",
    "    else:\n",
    "        print(\"Image loaded successfully.\")\n",
    "        # Process the image here"
   ]
  }
 ],
 "metadata": {
  "kernelspec": {
   "display_name": "Python 3 (ipykernel)",
   "language": "python",
   "name": "python3"
  },
  "language_info": {
   "codemirror_mode": {
    "name": "ipython",
    "version": 3
   },
   "file_extension": ".py",
   "mimetype": "text/x-python",
   "name": "python",
   "nbconvert_exporter": "python",
   "pygments_lexer": "ipython3",
   "version": "3.11.7"
  }
 },
 "nbformat": 4,
 "nbformat_minor": 5
}
