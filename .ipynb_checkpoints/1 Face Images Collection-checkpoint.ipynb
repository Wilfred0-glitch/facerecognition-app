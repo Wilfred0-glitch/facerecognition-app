{
 "cells": [
  {
   "cell_type": "code",
   "execution_count": 1,
   "id": "c6cf902f",
   "metadata": {},
   "outputs": [
    {
     "name": "stdout",
     "output_type": "stream",
     "text": [
      "Requirement already satisfied: opencv-python in c:\\users\\preeti\\anaconda3\\envs\\deeplearning\\lib\\site-packages (4.8.0.74)\n",
      "Requirement already satisfied: numpy>=1.17.0 in c:\\users\\preeti\\anaconda3\\envs\\deeplearning\\lib\\site-packages (from opencv-python) (1.25.2)\n"
     ]
    },
    {
     "name": "stderr",
     "output_type": "stream",
     "text": [
      "WARNING: Ignoring invalid distribution -rotobuf (c:\\users\\preeti\\anaconda3\\envs\\deeplearning\\lib\\site-packages)\n",
      "WARNING: Ignoring invalid distribution -rotobuf (c:\\users\\preeti\\anaconda3\\envs\\deeplearning\\lib\\site-packages)\n",
      "WARNING: Ignoring invalid distribution -rotobuf (c:\\users\\preeti\\anaconda3\\envs\\deeplearning\\lib\\site-packages)\n",
      "WARNING: Ignoring invalid distribution -rotobuf (c:\\users\\preeti\\anaconda3\\envs\\deeplearning\\lib\\site-packages)\n",
      "WARNING: Ignoring invalid distribution -rotobuf (c:\\users\\preeti\\anaconda3\\envs\\deeplearning\\lib\\site-packages)\n",
      "WARNING: Ignoring invalid distribution -rotobuf (c:\\users\\preeti\\anaconda3\\envs\\deeplearning\\lib\\site-packages)\n"
     ]
    }
   ],
   "source": [
    "# install opencv\n",
    "!pip install opencv-python\n"
   ]
  },
  {
   "cell_type": "code",
   "execution_count": 2,
   "id": "fe5dfb8f",
   "metadata": {},
   "outputs": [],
   "source": [
    "import cv2"
   ]
  },
  {
   "cell_type": "code",
   "execution_count": 3,
   "id": "8c694c1d",
   "metadata": {},
   "outputs": [
    {
     "name": "stdout",
     "output_type": "stream",
     "text": [
      "enter the name of the person preeti\n"
     ]
    }
   ],
   "source": [
    "# Facial Image Collection\n",
    "person_name=input(\"enter the name of the person \")"
   ]
  },
  {
   "cell_type": "code",
   "execution_count": 8,
   "id": "05cef51e",
   "metadata": {},
   "outputs": [
    {
     "data": {
      "text/plain": [
       "'preeti'"
      ]
     },
     "execution_count": 8,
     "metadata": {},
     "output_type": "execute_result"
    }
   ],
   "source": [
    "person_name"
   ]
  },
  {
   "cell_type": "code",
   "execution_count": 13,
   "id": "50d90fb5",
   "metadata": {},
   "outputs": [],
   "source": [
    "\n",
    "\n",
    "#set up a face detection model using OpenCV’s Haar Cascade classifier. \n",
    "#AI model for face detection in an image/video\n",
    "face_detector=cv2.CascadeClassifier(\"haarcascade_frontalface_default.xml\")"
   ]
  },
  {
   "cell_type": "code",
   "execution_count": 14,
   "id": "088fd0c0",
   "metadata": {},
   "outputs": [
    {
     "data": {
      "text/plain": [
       "< cv2.CascadeClassifier 0000014FB7A2CDF0>"
      ]
     },
     "execution_count": 14,
     "metadata": {},
     "output_type": "execute_result"
    }
   ],
   "source": [
    "face_detector"
   ]
  },
  {
   "cell_type": "code",
   "execution_count": 27,
   "id": "b366489d",
   "metadata": {},
   "outputs": [
    {
     "name": "stderr",
     "output_type": "stream",
     "text": [
      "<>:28: SyntaxWarning: \"is\" with a literal. Did you mean \"==\"?\n",
      "<>:28: SyntaxWarning: \"is\" with a literal. Did you mean \"==\"?\n",
      "C:\\Users\\PREETI\\AppData\\Local\\Temp\\ipykernel_19740\\1869544572.py:28: SyntaxWarning: \"is\" with a literal. Did you mean \"==\"?\n",
      "  if face_portion is ():\n"
     ]
    }
   ],
   "source": [
    "#image counter\n",
    "counter=0\n",
    "\n",
    "# To capture images using web cam\n",
    "while True:\n",
    "    \n",
    "    cap=cv2.VideoCapture(0)\n",
    "    '''\n",
    "    This line initializes a new VideoCapture object that will use the first camera device connected to your computer. \n",
    "    The parameter 0 indicates the device index of the camera (0 for the default camera).\n",
    "    '''\n",
    "    \n",
    "        \n",
    "    success,image=cap.read()\n",
    "    '''\n",
    "    cap.read() captures a frame from the camera.\n",
    "    It returns a tuple where the first item, success, is a boolean indicating whether the frame was read correctly.\n",
    "    The second item, image, is the frame captured from the camera, represented as an array of pixels.\n",
    "    '''\n",
    "   \n",
    "\n",
    "    face_portion=face_detector.detectMultiScale(image)\n",
    "    '''\n",
    "    This line uses the face_detector object, which you’ve previously initialized with \n",
    "    the Haar Cascade XML file, to detect faces in the image.\n",
    "    '''\n",
    "    \n",
    "    if face_portion is ():\n",
    "        '''\n",
    "        Image will not be taken and msg with no face found displayed if not face\n",
    "        '''\n",
    "        print(\"Face is not found\")\n",
    "        print(\"success-\",success)\n",
    "        \n",
    "    else:\n",
    "        #print(face_portion)\n",
    "        '''\n",
    "        Iterates over each face detected, represented by a rectangle with coordinates (x, y) \n",
    "        and size (w, h).\n",
    "        Adjust the coordinates:\n",
    "        x=x-30 and y=y-30:\n",
    "        Expands the rectangle by 30 pixels on the left and top to include a larger area \n",
    "        around the detected face.\n",
    "        '''\n",
    "        for (x,y,w,h) in face_portion:\n",
    "            x=x-30 \n",
    "            y=y-30\n",
    "            cropped_image=image[y:y+h+30,x:x+w+30]\n",
    "        \n",
    "        #increase the image counter\n",
    "        counter=counter+1\n",
    "        \n",
    "        #crop the face image with size 400 x 400\n",
    "        face_image=cv2.resize(cropped_image,(400,400))\n",
    "        \n",
    "        #naming the image captured with proper name -- eg preeti_1, preeti_2, in the image folder\n",
    "        file_name='./Images/'+person_name+\"-\"+str(counter)+'.jpg'\n",
    "        \n",
    "        #save the image file with file name mentioned above in the folder\n",
    "        cv2.imwrite(file_name,cropped_image)\n",
    "            \n",
    "        \n",
    "        #this code will put text of image counter on image when you are capturing it\n",
    "        #also a green rectangle is shown\n",
    "        cv2.putText(image, \n",
    "                    str(counter), \n",
    "                    (150, 150), \n",
    "                    cv2.FONT_HERSHEY_COMPLEX, \n",
    "                    1,\n",
    "                    (0,255,0), 2)\n",
    "        cv2.rectangle(image, (x, y), (x+w+30, y+h+30), (0, 255, 0), 2)\n",
    "        cv2.imshow(\"Image Window\",image)\n",
    "        \n",
    "    \n",
    "    #waits for 100 ms or if 'q' is pressed and quits camera\n",
    "    if cv2.waitKey(100)==ord('q') or counter==100:\n",
    "        break\n",
    "cap.release()\n",
    "cv2.destroyAllWindows()"
   ]
  },
  {
   "cell_type": "code",
   "execution_count": 18,
   "id": "3c5d66e9",
   "metadata": {},
   "outputs": [
    {
     "name": "stdout",
     "output_type": "stream",
     "text": [
      "C:\\Users\\PREETI\\Computer Vision\n"
     ]
    }
   ],
   "source": [
    "import os\n",
    "print(os.getcwd())"
   ]
  },
  {
   "cell_type": "code",
   "execution_count": null,
   "id": "1a52633c",
   "metadata": {},
   "outputs": [],
   "source": []
  }
 ],
 "metadata": {
  "kernelspec": {
   "display_name": "Python 3 (ipykernel)",
   "language": "python",
   "name": "python3"
  },
  "language_info": {
   "codemirror_mode": {
    "name": "ipython",
    "version": 3
   },
   "file_extension": ".py",
   "mimetype": "text/x-python",
   "name": "python",
   "nbconvert_exporter": "python",
   "pygments_lexer": "ipython3",
   "version": "3.9.16"
  }
 },
 "nbformat": 4,
 "nbformat_minor": 5
}
